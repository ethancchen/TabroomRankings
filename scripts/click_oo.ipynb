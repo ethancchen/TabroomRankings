{
 "cells": [
  {
   "cell_type": "code",
   "execution_count": null,
   "metadata": {},
   "outputs": [],
   "source": [
    "from selenium import webdriver\n",
    "from selenium.webdriver.common.by import By\n",
    "from selenium.webdriver.firefox.options import Options\n",
    "from selenium.webdriver.support.ui import WebDriverWait\n",
    "from selenium.webdriver.support import expected_conditions as EC\n",
    "from selenium.webdriver.common.action_chains import ActionChains\n",
    "from pathlib import Path\n",
    "import csv"
   ]
  },
  {
   "cell_type": "code",
   "execution_count": null,
   "metadata": {},
   "outputs": [],
   "source": [
    "options = Options()\n",
    "options.headless = True\n",
    "\n",
    "tourn_id = 30030\n",
    "largest_round_id = 1171709\n",
    "url = \"https://www.tabroom.com/index/tourn/results/index.mhtml?tourn_id={tourn_id}\"\n",
    "url = url.replace(\"{tourn_id}\", str(tourn_id))\n",
    "tourn_name = \"NSDA Nationals Qualifier\"\n",
    "EVENT_IDENTIFIER = \"Event Results\"\n",
    "OO_IDENTIFIER = \"OO Results\"\n",
    "DROPDOWN_OPTION = \"Original Oratory\"\n",
    "OUTPUT_CSV_DIR = Path().resolve().parent / \"output_csv\"\n",
    "OUTPUT_CSV_SUBDIR = OUTPUT_CSV_DIR / tourn_name\n",
    "OUTPUT_CSV_SUBDIR.mkdir(parents=True, exist_ok=True)"
   ]
  },
  {
   "cell_type": "code",
   "execution_count": null,
   "metadata": {},
   "outputs": [],
   "source": [
    "def navigate_to_oo_page(driver) -> None:\n",
    "    driver.get(url)\n",
    "    select2_container = WebDriverWait(driver, 10).until(\n",
    "        EC.element_to_be_clickable((By.CSS_SELECTOR, \".select2-selection--single\"))\n",
    "    )\n",
    "    select2_container.click()\n",
    "    option_xpath = f\"//li[contains(@class, 'select2-results__option') and . = '{DROPDOWN_OPTION}']\"\n",
    "    desired_option = WebDriverWait(driver, 10).until(\n",
    "        EC.element_to_be_clickable((By.XPATH, option_xpath))\n",
    "    )\n",
    "    \n",
    "    desired_option.click()"
   ]
  },
  {
   "cell_type": "code",
   "execution_count": null,
   "metadata": {},
   "outputs": [],
   "source": [
    "driver = webdriver.Firefox(options=options)\n",
    "navigate_to_oo_page(driver)\n",
    "sidenotes = driver.find_elements(By.CLASS_NAME, \"sidenote\")\n",
    "matched_element = None\n",
    "found = False\n",
    "\n",
    "for sidenote in sidenotes:\n",
    "    if OO_IDENTIFIER in sidenote.text:\n",
    "        assert found is not True\n",
    "        matched_element = sidenote\n",
    "        found = True\n",
    "a_tags = matched_element.find_elements(By.TAG_NAME, \"a\")\n",
    "[a_tag.text for a_tag in a_tags]\n",
    "links_hrefs = [[link.get_attribute('href'), link.text.strip()] for link in a_tags]"
   ]
  },
  {
   "cell_type": "code",
   "execution_count": null,
   "metadata": {},
   "outputs": [],
   "source": [
    "for link, round_name in links_hrefs:\n",
    "    driver.get(link)\n",
    "    output_csv_file = (OUTPUT_CSV_SUBDIR / round_name.replace(\" \", \"_\")).with_suffix(\".csv\")  # TODO: lstrip & rstrip?\n",
    "    table = driver.find_element(By.TAG_NAME, \"table\")\n",
    "    first_row = table.find_element(By.TAG_NAME, \"tr\")\n",
    "    headers = first_row.find_elements(By.TAG_NAME, \"th\")\n",
    "    header_row = [\"round_stage\"] + [header.text for header in headers if header.text != \"\"]\n",
    "    with open(output_csv_file, 'w+', newline='', encoding='utf-8') as file:\n",
    "        # TODO: error handling, e.g. len(s) == 1 and len(header_row) in s\n",
    "        writer = csv.writer(file)\n",
    "        writer.writerow(header_row)\n",
    "        rows = driver.find_elements(By.TAG_NAME, \"tr\")\n",
    "        for row in rows:\n",
    "            columns = row.find_elements(By.TAG_NAME, \"td\")\n",
    "\n",
    "            if len(columns) == 0:\n",
    "                continue\n",
    "            \n",
    "            column_texts = [col.text for col in columns]\n",
    "            writer.writerow([round_name] + column_texts)\n",
    "driver.quit()"
   ]
  },
  {
   "cell_type": "code",
   "execution_count": null,
   "metadata": {},
   "outputs": [],
   "source": []
  }
 ],
 "metadata": {
  "kernelspec": {
   "display_name": "venv",
   "language": "python",
   "name": "python3"
  },
  "language_info": {
   "codemirror_mode": {
    "name": "ipython",
    "version": 3
   },
   "file_extension": ".py",
   "mimetype": "text/x-python",
   "name": "python",
   "nbconvert_exporter": "python",
   "pygments_lexer": "ipython3"
  }
 },
 "nbformat": 4,
 "nbformat_minor": 2
}
